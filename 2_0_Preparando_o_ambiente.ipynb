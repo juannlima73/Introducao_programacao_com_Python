{
  "nbformat": 4,
  "nbformat_minor": 0,
  "metadata": {
    "colab": {
      "provenance": [],
      "authorship_tag": "ABX9TyMq2UufIxChbidMWGdYcuQE",
      "include_colab_link": true
    },
    "kernelspec": {
      "name": "python3",
      "display_name": "Python 3"
    },
    "language_info": {
      "name": "python"
    }
  },
  "cells": [
    {
      "cell_type": "markdown",
      "metadata": {
        "id": "view-in-github",
        "colab_type": "text"
      },
      "source": [
        "<a href=\"https://colab.research.google.com/github/juannlima73/Introducao_programacao_com_Python/blob/main/2_0_Preparando_o_ambiente.ipynb\" target=\"_parent\"><img src=\"https://colab.research.google.com/assets/colab-badge.svg\" alt=\"Open In Colab\"/></a>"
      ]
    },
    {
      "cell_type": "markdown",
      "source": [
        "\n",
        "# 2. Preparando o ambiente\n"
      ],
      "metadata": {
        "id": "VtL1qFb0OaqV"
      }
    },
    {
      "cell_type": "code",
      "execution_count": null,
      "metadata": {
        "id": "R_yGzzPyOaBR"
      },
      "outputs": [],
      "source": [
        "soma = 2 + 3\n",
        "subtracao = 5 - 3\n",
        "adicao_subtracao = 10 - 4 + 2\n",
        "multiplicacao = 2 * 10\n",
        "divisao = 20 / 4\n",
        "divisao_float = 10 / 4\n",
        "divisao_inteiro = 10 //4\n",
        "elevado_a_potencia = 2 ** 3\n",
        "resto_divisao = 10 % 3\n",
        "\n",
        "print('Resultado da soma: ', soma)\n",
        "print('Resultado da subtracao: ', subtracao)\n",
        "print('Resultado da adição e subtração: ', adicao_subtracao)\n",
        "print('Resultado da multiplicacao: ', multiplicacao)\n",
        "print('Resultado da divisão: ', divisao)\n",
        "print('Resultado da divisão float: ', divisao_float)\n",
        "print('Resultado da divisao interiro: ', divisao_inteiro)\n",
        "print('Resultado de 2 elevado a potência de 3: ', elevado_a_potencia)\n",
        "print('Resultado do resto da divisão: ', resto_divisao)"
      ]
    },
    {
      "cell_type": "markdown",
      "source": [
        "***\n",
        "Grau de prioridade\n",
        "***"
      ],
      "metadata": {
        "id": "JwASjlF7OvDU"
      }
    },
    {
      "cell_type": "markdown",
      "source": [
        "1. Exponenciação ou potenciação (**).\n",
        "2. Multiplicaçaõ (*), divisão (/ e //) e módulo (%).\n",
        "3. Adição (+) e subtração (-)"
      ],
      "metadata": {
        "id": "SZ4taewGO4Vk"
      }
    },
    {
      "cell_type": "markdown",
      "source": [
        "***\n",
        "Exercicio\n",
        "***"
      ],
      "metadata": {
        "id": "_kCPNLDuO8bj"
      }
    },
    {
      "cell_type": "markdown",
      "source": [
        "2.1 Converta as seguintes expressões matemáticas para que possam ser calculadas usando o interpretador Python.\n",
        "\n",
        "10 + 20 x 30\n",
        "\n",
        "4² / 30\n",
        "\n",
        "(9**4 + 2) x 6 -1"
      ],
      "metadata": {
        "id": "fhK8jPP3O-qw"
      }
    },
    {
      "cell_type": "code",
      "source": [
        "primeira_funcao = 10 + 20 * 30\n",
        "segunda_funcao = 4**2 / 30\n",
        "terceira_funcao = (9**4+2)*6-1\n",
        "\n",
        "print('Resultado primeira funcao: ', primeira_funcao)\n",
        "print('Resultado segunda funcao: ', segunda_funcao)\n",
        "print('Resultado terceira funcao: ', terceira_funcao)"
      ],
      "metadata": {
        "id": "FwhGN3OePB0O"
      },
      "execution_count": null,
      "outputs": []
    },
    {
      "cell_type": "markdown",
      "source": [
        "2.2 Digite a seguinte expressão no interpretador:\n",
        "\n",
        "funcao = 10 % 3 * 10 ** 2 + 1 - 10 * 4 / 2"
      ],
      "metadata": {
        "id": "BUI81wddPISw"
      }
    },
    {
      "cell_type": "code",
      "source": [
        "funcao = 10 % 3 * 10 ** 2 + 1 - 10 * 4 / 2\n",
        "\n",
        "print('Resultado da expressão: ', funcao)"
      ],
      "metadata": {
        "id": "pb-BKQbRPL7r"
      },
      "execution_count": null,
      "outputs": []
    },
    {
      "cell_type": "markdown",
      "source": [
        "2.6 Conceitos de variáveis e atribuição"
      ],
      "metadata": {
        "id": "xGBGIJ6oPS6o"
      }
    },
    {
      "cell_type": "markdown",
      "source": [
        "***\n",
        "Programa 2.2 Cálculo de aumento de salário\n",
        "***"
      ],
      "metadata": {
        "id": "qZASeKjBPZDY"
      }
    },
    {
      "cell_type": "markdown",
      "source": [
        "Salário = 1500\n",
        "\n",
        "aumento = 5%"
      ],
      "metadata": {
        "id": "OjRRdHoNPc8o"
      }
    },
    {
      "cell_type": "code",
      "source": [
        "salario = 1500\n",
        "\n",
        "aumento = 5\n",
        "\n",
        "print('Salário atual: ', salario,  '\\nSalário novo: ', salario+(salario*aumento/100))"
      ],
      "metadata": {
        "colab": {
          "base_uri": "https://localhost:8080/"
        },
        "id": "Qym6Q_hgPU3U",
        "outputId": "108fcaa5-e663-453c-effc-d1f727b0c81d"
      },
      "execution_count": null,
      "outputs": [
        {
          "output_type": "stream",
          "name": "stdout",
          "text": [
            "Salário atual:  1500 \n",
            "Salário novo:  1575.0\n"
          ]
        }
      ]
    },
    {
      "cell_type": "markdown",
      "source": [
        "***\n",
        "Exercicio\n",
        "***"
      ],
      "metadata": {
        "id": "x5xKo4RDPtbm"
      }
    },
    {
      "cell_type": "markdown",
      "source": [
        "2.3 Faça um programa que exiba seu nome na tela."
      ],
      "metadata": {
        "id": "BAbe-1WNPvvN"
      }
    },
    {
      "cell_type": "code",
      "source": [
        "Nome = 'Juan Lima'\n",
        "\n",
        "print('O meu nome é: ',Nome)"
      ],
      "metadata": {
        "id": "X0H4s3XkPyt6"
      },
      "execution_count": null,
      "outputs": []
    },
    {
      "cell_type": "markdown",
      "source": [
        "2.4 Escreva um programa que exiba o resultado de 2a x 3b, em que _a_ vale 3 e _b_ vale 5."
      ],
      "metadata": {
        "id": "fL8JrdWIP1KA"
      }
    },
    {
      "cell_type": "code",
      "source": [
        "a = 3\n",
        "b = 5\n",
        "\n",
        "funcao = 2 * a * 3 * b\n",
        "\n",
        "print('O resultado da função é: ',funcao)"
      ],
      "metadata": {
        "id": "lfy1NrfbP4v9"
      },
      "execution_count": null,
      "outputs": []
    },
    {
      "cell_type": "markdown",
      "source": [
        "2.5 Escreva um programa que calcule a soma de três variáveis e imprima o resultado na tela"
      ],
      "metadata": {
        "id": "KvtH-aJjQA63"
      }
    },
    {
      "cell_type": "code",
      "source": [
        "VariavelUm = 1\n",
        "VariavelDois = 2\n",
        "VariavelTres = 3\n",
        "\n",
        "print('O resultado da soma das três variáveis é: ',VariavelUm + VariavelDois + VariavelTres)"
      ],
      "metadata": {
        "id": "vmqAWH--QCix"
      },
      "execution_count": null,
      "outputs": []
    },
    {
      "cell_type": "markdown",
      "source": [
        "2.6 Modifique o programa 2.2, de forma que ele calcule um aumento de 15% para um salário de R$ 750"
      ],
      "metadata": {
        "id": "HmUAJFv0QG_-"
      }
    },
    {
      "cell_type": "code",
      "source": [
        "salario = 750\n",
        "\n",
        "aumento = 15\n",
        "\n",
        "AtualizacaoSalarial = (salario+(salario*aumento/100))\n",
        "\n",
        "print('O novo salário será de: ',AtualizacaoSalarial)"
      ],
      "metadata": {
        "id": "ogjTc3Y8QItY"
      },
      "execution_count": null,
      "outputs": []
    }
  ]
}