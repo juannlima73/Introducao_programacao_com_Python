{
  "nbformat": 4,
  "nbformat_minor": 0,
  "metadata": {
    "colab": {
      "provenance": [],
      "authorship_tag": "ABX9TyNDWNLcuUm5jWg0P/OnZI/I",
      "include_colab_link": true
    },
    "kernelspec": {
      "name": "python3",
      "display_name": "Python 3"
    },
    "language_info": {
      "name": "python"
    }
  },
  "cells": [
    {
      "cell_type": "markdown",
      "metadata": {
        "id": "view-in-github",
        "colab_type": "text"
      },
      "source": [
        "<a href=\"https://colab.research.google.com/github/juannlima73/Introducao_programacao_com_Python/blob/main/3_0_Variaveis_e_Entrada_de_Dados_(Python).ipynb\" target=\"_parent\"><img src=\"https://colab.research.google.com/assets/colab-badge.svg\" alt=\"Open In Colab\"/></a>"
      ]
    },
    {
      "cell_type": "markdown",
      "source": [
        "# 3. Variaveis e Entrada de Dados"
      ],
      "metadata": {
        "id": "jv6h_rzMQtin"
      }
    },
    {
      "cell_type": "markdown",
      "source": [
        "***\n",
        "Represente o valos numéricos em Python\n",
        "***\n"
      ],
      "metadata": {
        "id": "EnkD6b25Qyz-"
      }
    },
    {
      "cell_type": "markdown",
      "source": [
        "5 x 10² + 3 x 10¹ + 1 x 10(elevado a zero)\n",
        "= 531"
      ],
      "metadata": {
        "id": "QWQyF2OVQ3kg"
      }
    },
    {
      "cell_type": "code",
      "execution_count": null,
      "metadata": {
        "colab": {
          "base_uri": "https://localhost:8080/"
        },
        "id": "_Scy1qxkQrKw",
        "outputId": "e3f126fe-c765-4139-b3d2-aec2953f7658"
      },
      "outputs": [
        {
          "output_type": "stream",
          "name": "stdout",
          "text": [
            "531\n"
          ]
        }
      ],
      "source": [
        "calculo = 5 * 10**2 + 3 * 10**1 + 1 * 10**0\n",
        "\n",
        "\n",
        "print(calculo)"
      ]
    },
    {
      "cell_type": "markdown",
      "source": [
        "***\n",
        "3.3.1 Operadores relacionais\n",
        "***"
      ],
      "metadata": {
        "id": "COuMtCWGQ-mg"
      }
    },
    {
      "cell_type": "markdown",
      "source": [
        "> a = 1 # a recebe 1\n",
        "> b = 5 # b recebe 5\n",
        "> c = 2 # c recebe 2\n",
        "> d = 1 # d recebe 1\n",
        "\n",
        "> a == b # a é igual a b ?\n",
        "\n",
        "> b > a # b é maior que a ?\n",
        "> a < b # a é maior que b ?\n",
        "\n",
        "> a == d # a é igual a d ?\n",
        "\n",
        "> b >= a # b é maior ou igual a ?\n",
        "> c <= b # c é menor ou igual b ?\n",
        "\n",
        "> d != a # d é diferente de a ?\n",
        "> d != b # d é maior ou igual b ?"
      ],
      "metadata": {
        "id": "tnRS4NIxRBaR"
      }
    },
    {
      "cell_type": "code",
      "source": [
        "a = 1\n",
        "b = 5\n",
        "c = 2\n",
        "d = 1\n",
        "\n",
        "print(f'A é igual a B ?', a == b)\n",
        "print(f'\\n B é maior que A ?', b > a)\n",
        "print(f'\\n A é menor que B ?', a < b)\n",
        "print(f'\\n A é igual a D ?', a == d)\n",
        "print(f'\\n B é maior ou igual A ?', b >= a)\n",
        "print(f'\\n C é menor ou igual B ?', c <= b)\n",
        "print(f'\\n D é diferente de A ?', d != a)\n",
        "print(f'\\n D é diferente de B ?', d != b)"
      ],
      "metadata": {
        "colab": {
          "base_uri": "https://localhost:8080/"
        },
        "id": "itjQjKwiQ6N2",
        "outputId": "ce22998a-76d8-43a5-a531-19051e859b18"
      },
      "execution_count": null,
      "outputs": [
        {
          "output_type": "stream",
          "name": "stdout",
          "text": [
            "A é igual a B ? False\n",
            "\n",
            " B é maior que A ? True\n",
            "\n",
            " A é menor que B ? True\n",
            "\n",
            " A é igual a D ? True\n",
            "\n",
            " B é maior ou igual A ? True\n",
            "\n",
            " C é menor ou igual B ? True\n",
            "\n",
            " D é diferente de A ? False\n",
            "\n",
            " D é diferente de B ? True\n"
          ]
        }
      ]
    },
    {
      "cell_type": "markdown",
      "source": [
        "***\n",
        "3.3.2 Operadores lógicos\n",
        "***"
      ],
      "metadata": {
        "id": "RSkbIfLBRH7_"
      }
    },
    {
      "cell_type": "markdown",
      "source": [
        "> Operador not - Tabela da Verdade"
      ],
      "metadata": {
        "id": "YPqrXamqRKu2"
      }
    },
    {
      "cell_type": "code",
      "source": [
        "print(not True)\n",
        "\n",
        "print(not False)"
      ],
      "metadata": {
        "colab": {
          "base_uri": "https://localhost:8080/"
        },
        "id": "TWrNZpTnRNvd",
        "outputId": "31585696-f64a-478f-da8e-a10f378a7cf9"
      },
      "execution_count": null,
      "outputs": [
        {
          "output_type": "stream",
          "name": "stdout",
          "text": [
            "False\n",
            "True\n"
          ]
        }
      ]
    },
    {
      "cell_type": "markdown",
      "source": [
        "> Operador and - Tabela da Verdade"
      ],
      "metadata": {
        "id": "NTDscGUiRRK4"
      }
    },
    {
      "cell_type": "code",
      "source": [
        "print(True and True)\n",
        "print(True and False)\n",
        "print(False and True)\n",
        "print(False and False)"
      ],
      "metadata": {
        "colab": {
          "base_uri": "https://localhost:8080/"
        },
        "id": "R7XmHcPHRI0u",
        "outputId": "42d70c4f-592e-495c-c91b-74c5aac9a4e0"
      },
      "execution_count": null,
      "outputs": [
        {
          "output_type": "stream",
          "name": "stdout",
          "text": [
            "True\n",
            "False\n",
            "False\n",
            "False\n"
          ]
        }
      ]
    },
    {
      "cell_type": "markdown",
      "source": [
        "> Operador or - Tabela da Verdade"
      ],
      "metadata": {
        "id": "tmM41MavRU-O"
      }
    },
    {
      "cell_type": "code",
      "source": [
        "print(True or True)\n",
        "print(True or False)\n",
        "print(False or True)\n",
        "print(False or False)"
      ],
      "metadata": {
        "colab": {
          "base_uri": "https://localhost:8080/"
        },
        "id": "5S7DQpaTRTAQ",
        "outputId": "cf89cd1f-d4e4-471e-c970-2f0101e99357"
      },
      "execution_count": null,
      "outputs": [
        {
          "output_type": "stream",
          "name": "stdout",
          "text": [
            "True\n",
            "True\n",
            "True\n",
            "False\n"
          ]
        }
      ]
    },
    {
      "cell_type": "markdown",
      "source": [
        "***\n",
        "Exercicio\n",
        "***"
      ],
      "metadata": {
        "id": "FMeT0cyBRZcN"
      }
    },
    {
      "cell_type": "markdown",
      "source": [
        "3.2 Complete a tabela a seguir, respondendo True ou False. Considere a = 4, b = 10, c = 5.0, d = 1 e f = 5"
      ],
      "metadata": {
        "id": "GP7rf-SuRbGz"
      }
    },
    {
      "cell_type": "code",
      "source": [
        "a = 4\n",
        "b = 10\n",
        "c = 5.0\n",
        "d = 1\n",
        "f = 5\n",
        "\n",
        "print(\n",
        "    '\\n',a == c,\n",
        "    '\\n',a < b,\n",
        "    '\\n',d > b,\n",
        "    '\\n',c != f,\n",
        "    '\\n',a == b,\n",
        "    '\\n',c < d,\n",
        "    '\\n',b > a,\n",
        "    '\\n',c >= f,\n",
        "    '\\n',f >= c,\n",
        "    '\\n',c <= c,\n",
        "    '\\n',c <= f\n",
        "      )"
      ],
      "metadata": {
        "colab": {
          "base_uri": "https://localhost:8080/"
        },
        "id": "a9mgtT5iRXQz",
        "outputId": "acdf62bf-707c-43a4-e543-e9f35cf14d1b"
      },
      "execution_count": null,
      "outputs": [
        {
          "output_type": "stream",
          "name": "stdout",
          "text": [
            "\n",
            " False \n",
            " True \n",
            " False \n",
            " False \n",
            " False \n",
            " False \n",
            " True \n",
            " True \n",
            " True \n",
            " True \n",
            " True\n"
          ]
        }
      ]
    },
    {
      "cell_type": "markdown",
      "source": [
        "3.3 Complete a tabela a seguir utilizando a = True, b = False e c = True."
      ],
      "metadata": {
        "id": "fBPuabcKRgA-"
      }
    },
    {
      "cell_type": "code",
      "source": [
        "a = True\n",
        "b = False\n",
        "c = True\n",
        "\n",
        "\n",
        "print(\n",
        "     '\\n', a and a,\n",
        "     '\\n', b and b,\n",
        "     '\\n', not c,\n",
        "     '\\n', not b,\n",
        "     '\\n', not a,\n",
        "     '\\n', a and b,\n",
        "     '\\n', b and c,\n",
        "     '\\n', a or c,\n",
        "     '\\n', b or c,\n",
        "     '\\n', c or a,\n",
        "     '\\n', c or b,\n",
        "     '\\n', c or c,\n",
        "     '\\n', b or b\n",
        ")"
      ],
      "metadata": {
        "colab": {
          "base_uri": "https://localhost:8080/"
        },
        "id": "o3bHsSllRg5u",
        "outputId": "6053c2e7-34c9-4721-9837-e9910dd9b901"
      },
      "execution_count": null,
      "outputs": [
        {
          "output_type": "stream",
          "name": "stdout",
          "text": [
            "\n",
            " True \n",
            " False \n",
            " False \n",
            " True \n",
            " False \n",
            " False \n",
            " False \n",
            " True \n",
            " True \n",
            " True \n",
            " True \n",
            " True \n",
            " False\n"
          ]
        }
      ]
    },
    {
      "cell_type": "code",
      "source": [
        "print( True or False and not True)"
      ],
      "metadata": {
        "colab": {
          "base_uri": "https://localhost:8080/"
        },
        "id": "OP8LlpSbRiUE",
        "outputId": "e57820b0-1ab6-4907-fb3d-ac2697ca8116"
      },
      "execution_count": null,
      "outputs": [
        {
          "output_type": "stream",
          "name": "stdout",
          "text": [
            "True\n"
          ]
        }
      ]
    },
    {
      "cell_type": "markdown",
      "source": [
        "> Exemplos de expressões lógicas"
      ],
      "metadata": {
        "id": "ylgVWRotRmd6"
      }
    },
    {
      "cell_type": "markdown",
      "source": [
        "Imagine que salario > 1000 and idade > 18 seja uma condição para um emprétimo de compra de um carro novo. Quando o salario = 100 e idade = 20, qual sera o resultado da expressão ?"
      ],
      "metadata": {
        "id": "RQiQiCkIRoFQ"
      }
    },
    {
      "cell_type": "code",
      "source": [
        "salario = 100\n",
        "idade = 20\n",
        "\n",
        "if salario > 1000 and idade > 18:\n",
        "    print('Condições atendidas para emprestimo')\n",
        "else:\n",
        "    print('As condições não foram atendidas para o emprestimo')\n"
      ],
      "metadata": {
        "colab": {
          "base_uri": "https://localhost:8080/"
        },
        "id": "6691apXsRlOh",
        "outputId": "0907baf4-1637-4508-a068-e922c1797a93"
      },
      "execution_count": null,
      "outputs": [
        {
          "output_type": "stream",
          "name": "stdout",
          "text": [
            "As condições não foram atendidas para o emprestimo\n"
          ]
        }
      ]
    },
    {
      "cell_type": "markdown",
      "source": [
        "***\n",
        "Exercicios\n",
        "***"
      ],
      "metadata": {
        "id": "q1wjbjKIRu3X"
      }
    },
    {
      "cell_type": "markdown",
      "source": [
        "3.4 Escreva uma expressão para determinar se uma pessoa deve ou não pagar imposto. Considere que pagar imposto pessoas cujo salário é maior que E$ 1.200,00"
      ],
      "metadata": {
        "id": "gD2xv7LURyiW"
      }
    },
    {
      "cell_type": "code",
      "source": [
        "fatoGeradorImposto = 1200\n",
        "salario = 50000\n",
        "\n",
        "if salario >= fatoGeradorImposto:\n",
        "    print('As condições foram atendidas, o contribuinte deve pagar imposto')\n",
        "else:\n",
        "    print('As condições não foram atendidas, o contribuite está isento do imposto')"
      ],
      "metadata": {
        "colab": {
          "base_uri": "https://localhost:8080/"
        },
        "id": "BDHWxOCQRxl1",
        "outputId": "0dd31481-c759-4342-fb43-acd3b3e80ece"
      },
      "execution_count": null,
      "outputs": [
        {
          "output_type": "stream",
          "name": "stdout",
          "text": [
            "As condições foram atendidas, o contribuinte deve pagar imposto\n"
          ]
        }
      ]
    },
    {
      "cell_type": "markdown",
      "source": [
        "3.5 Calcule o resultado da expressão A > B and C or D"
      ],
      "metadata": {
        "id": "BW5Slkh7R39I"
      }
    },
    {
      "cell_type": "code",
      "source": [
        "A = 5\n",
        "B = 1\n",
        "C = True\n",
        "D = True\n",
        "\n",
        "expressao = A > B and C or D\n",
        "print(expressao)"
      ],
      "metadata": {
        "colab": {
          "base_uri": "https://localhost:8080/"
        },
        "id": "KaoUSfo1R0vc",
        "outputId": "d1de80a6-6d02-4fd3-fa57-788be4008dfe"
      },
      "execution_count": null,
      "outputs": [
        {
          "output_type": "stream",
          "name": "stdout",
          "text": [
            "True\n"
          ]
        }
      ]
    },
    {
      "cell_type": "markdown",
      "source": [
        "3.6 Escreva uma expressão que será utilizada para decidir se um aluno foi ou não aprovado. Para ser aprovado, todas as médias do aluno devem ser maiors que 7. Considere que o aluno cursa apenas três matérias, e que a nota de cada uma está armaezenada nas seguintes variáveis: materia1, materia2, materia3."
      ],
      "metadata": {
        "id": "9CzJ-vYyR9X8"
      }
    },
    {
      "cell_type": "code",
      "source": [
        "materia1 = 2\n",
        "materia2 = 3\n",
        "materia3 = 7\n",
        "\n",
        "mediaAprovacao = 7\n",
        "\n",
        "if materia1 > mediaAprovacao and materia2 > mediaAprovacao and materia3 > mediaAprovacao:\n",
        "    print('Aprovado')\n",
        "else:\n",
        "    print('Reprovado, tente novamente ano que vem :D')\n",
        "\n"
      ],
      "metadata": {
        "colab": {
          "base_uri": "https://localhost:8080/"
        },
        "id": "XzDpqI5yR9_p",
        "outputId": "c8785a33-5f06-4302-952e-a5a36ebc2e93"
      },
      "execution_count": null,
      "outputs": [
        {
          "output_type": "stream",
          "name": "stdout",
          "text": [
            "Reprovado, tente novamente ano que vem :D\n"
          ]
        }
      ]
    },
    {
      "cell_type": "markdown",
      "source": [
        "***\n",
        "3.4 Variáveis string\n",
        "***"
      ],
      "metadata": {
        "id": "5cgDPw5MSCvd"
      }
    },
    {
      "cell_type": "code",
      "source": [
        "a = len(\"a\")\n",
        "AB = len(\"AB\")\n",
        "vazio = len(\"\")\n",
        "rato_roeu = len(\"O rato roeu a roupa\")\n",
        "\n",
        "print(a)\n",
        "print(AB)\n",
        "print(vazio)\n",
        "print(rato_roeu)"
      ],
      "metadata": {
        "colab": {
          "base_uri": "https://localhost:8080/"
        },
        "id": "I_wuepDMR_SS",
        "outputId": "d6df4957-c30a-46a8-da3d-1d23d8225363"
      },
      "execution_count": null,
      "outputs": [
        {
          "output_type": "stream",
          "name": "stdout",
          "text": [
            "1\n",
            "2\n",
            "0\n",
            "19\n"
          ]
        }
      ]
    },
    {
      "cell_type": "markdown",
      "source": [
        "> Acessando um indice de uma determinada string"
      ],
      "metadata": {
        "id": "Wlt2FBTXSGtx"
      }
    },
    {
      "cell_type": "code",
      "source": [
        "a = \"ABCDEFG\"\n",
        "\n",
        "# Definindo os índices\n",
        "indice0 = 0\n",
        "indice1 = 1\n",
        "indice5 = 5\n",
        "indice6 = 6\n",
        "\n",
        "# Verificando se o índice está dentro dos limites da string\n",
        "if indice0 >= len(a):\n",
        "    print(f'Não foi possível acessar o índice {indice0}, pois é superior ao comprimento da string: {len(a)-1}')\n",
        "elif indice1 >= len(a):\n",
        "    print(f'Não foi possível acessar o índice {indice1}, pois é superior ao comprimento da string {len(a)-1}')\n",
        "elif indice5 >= len(a):\n",
        "    print(f'Não foi possível acessar o índice {indice5}, pois é superior ao comprimento da string {len(a)-1}')\n",
        "elif indice6 >= len(a):\n",
        "    print(f'Não foi possível acessar o índice {indice6}, pois é superior ao comprimento da string {len(a)-1}')\n",
        "else:\n",
        "    # Se todos os índices são válidos, podemos acessar e imprimir os caracteres correspondentes\n",
        "    print(f'Caractere no índice {indice0}: {a[indice0]}')\n",
        "    print(f'Caractere no índice {indice1}: {a[indice1]}')\n",
        "    print(f'Caractere no índice {indice5}: {a[indice5]}')\n",
        "    print(f'Caractere no índice {indice6}: {a[indice6]}')"
      ],
      "metadata": {
        "colab": {
          "base_uri": "https://localhost:8080/"
        },
        "id": "CpSET9yhSEp8",
        "outputId": "7ace3b9e-fd87-4576-898c-ba1d46b98dc4"
      },
      "execution_count": null,
      "outputs": [
        {
          "output_type": "stream",
          "name": "stdout",
          "text": [
            "Caractere no índice 0: A\n",
            "Caractere no índice 1: B\n",
            "Caractere no índice 5: F\n",
            "Caractere no índice 6: G\n"
          ]
        }
      ]
    },
    {
      "cell_type": "markdown",
      "source": [
        "3.4.1.1 Concatenação"
      ],
      "metadata": {
        "id": "OCXjkrMoSNJZ"
      }
    },
    {
      "cell_type": "code",
      "source": [
        "s = 'ABC'\n",
        "\n",
        "print( s + \"C\" )\n",
        "\n",
        "print ( s + \"D\" * 4 )\n",
        "\n",
        "print ( \"X\" + \"-\" * 10 + \"X\" )\n",
        "\n",
        "print ( s + \"x4 = \" + s * 4 )\n",
        "\n"
      ],
      "metadata": {
        "colab": {
          "base_uri": "https://localhost:8080/"
        },
        "id": "Y8JSsjBaSIfr",
        "outputId": "1fd76b7c-3721-4791-a6f0-f777a882ef73"
      },
      "execution_count": null,
      "outputs": [
        {
          "output_type": "stream",
          "name": "stdout",
          "text": [
            "ABCC\n",
            "ABCDDDD\n",
            "X----------X\n",
            "ABCx4 = ABCABCABCABC\n"
          ]
        }
      ]
    },
    {
      "cell_type": "markdown",
      "source": [
        "3.4.1.2 Composição"
      ],
      "metadata": {
        "id": "FFMzkt6bSQku"
      }
    },
    {
      "cell_type": "markdown",
      "source": [
        "> Marcadores\n",
        "\n",
        "%d Números inteiros\n",
        "\n",
        "%s Strings\n",
        "\n",
        "%f Números decimais"
      ],
      "metadata": {
        "id": "bUYJeyldSSWb"
      }
    },
    {
      "cell_type": "code",
      "source": [
        "idade = 22\n",
        "\n",
        "print( \"[%d]\" % idade )\n",
        "\n",
        "print ( \"[%03d]\" % idade )\n",
        "\n",
        "print ( \"[%3d]\" % idade )\n",
        "\n",
        "print ( \"[%-3d]\" % idade )"
      ],
      "metadata": {
        "colab": {
          "base_uri": "https://localhost:8080/"
        },
        "id": "AFoct7CISOsx",
        "outputId": "d0813702-6210-4a03-c37a-0d1fa5630791"
      },
      "execution_count": null,
      "outputs": [
        {
          "output_type": "stream",
          "name": "stdout",
          "text": [
            "[22]\n",
            "[022]\n",
            "[ 22]\n",
            "[22 ]\n"
          ]
        }
      ]
    },
    {
      "cell_type": "code",
      "source": [
        "\"R$%5.2f\" % 5"
      ],
      "metadata": {
        "colab": {
          "base_uri": "https://localhost:8080/",
          "height": 35
        },
        "id": "05paoDx8ST_J",
        "outputId": "0c989467-5b78-4a2b-c716-c1084b8d33fc"
      },
      "execution_count": null,
      "outputs": [
        {
          "output_type": "execute_result",
          "data": {
            "text/plain": [
              "'R$ 5.00'"
            ],
            "application/vnd.google.colaboratory.intrinsic+json": {
              "type": "string"
            }
          },
          "metadata": {},
          "execution_count": 20
        }
      ]
    },
    {
      "cell_type": "markdown",
      "source": [
        "Imagine que João tem 22 anos e apenas R$ 51,34 no bolso. Exiba essa mensagem utilizando Composição"
      ],
      "metadata": {
        "id": "WkrAhtL_SYSl"
      }
    },
    {
      "cell_type": "code",
      "source": [
        "\"%s tem %d anos e apenas R$%6.2f no bolso\" % (\"João\", 22, 51.34)"
      ],
      "metadata": {
        "colab": {
          "base_uri": "https://localhost:8080/",
          "height": 35
        },
        "id": "A2X21FX9SWNT",
        "outputId": "4e766f5b-f012-48c8-9a95-a0c569aa4cc0"
      },
      "execution_count": null,
      "outputs": [
        {
          "output_type": "execute_result",
          "data": {
            "text/plain": [
              "'João tem 22 anos e apenas R$ 51.34 no bolso'"
            ],
            "application/vnd.google.colaboratory.intrinsic+json": {
              "type": "string"
            }
          },
          "metadata": {},
          "execution_count": 21
        }
      ]
    },
    {
      "cell_type": "markdown",
      "source": [
        "> Modelos formatação .format"
      ],
      "metadata": {
        "id": "9itGapZrScw4"
      }
    },
    {
      "cell_type": "code",
      "source": [
        "nome = \"João\"\n",
        "idade = 22\n",
        "grana = 51.34\n",
        "\n",
        "\"{} tem {} anos e R$ {} no bolso.\" .format(nome,idade,grana)"
      ],
      "metadata": {
        "colab": {
          "base_uri": "https://localhost:8080/",
          "height": 35
        },
        "id": "mBU6_V1TSZ4Q",
        "outputId": "5f4906ba-314b-43a9-cbe6-054371588933"
      },
      "execution_count": null,
      "outputs": [
        {
          "output_type": "execute_result",
          "data": {
            "text/plain": [
              "'João tem 22 anos e R$ 51.34 no bolso.'"
            ],
            "application/vnd.google.colaboratory.intrinsic+json": {
              "type": "string"
            }
          },
          "metadata": {},
          "execution_count": 22
        }
      ]
    },
    {
      "cell_type": "code",
      "source": [
        "\"{:12} tem {:3} anos e R$ {:5.2f} no bolso.\" .format(nome, idade, grana)"
      ],
      "metadata": {
        "colab": {
          "base_uri": "https://localhost:8080/",
          "height": 35
        },
        "id": "9DJPnJjtSe3V",
        "outputId": "4923b70f-1cc7-4d0e-f5a9-811ec99c35d5"
      },
      "execution_count": null,
      "outputs": [
        {
          "output_type": "execute_result",
          "data": {
            "text/plain": [
              "'João         tem  22 anos e R$ 51.34 no bolso.'"
            ],
            "application/vnd.google.colaboratory.intrinsic+json": {
              "type": "string"
            }
          },
          "metadata": {},
          "execution_count": 23
        }
      ]
    },
    {
      "cell_type": "code",
      "source": [
        "\"{:12} tem {:03} anos e R$ {:5.2f} no bolso.\" .format(nome, idade, grana)"
      ],
      "metadata": {
        "colab": {
          "base_uri": "https://localhost:8080/",
          "height": 35
        },
        "id": "mVhreossShtb",
        "outputId": "7ee8a995-0217-4d5f-bb20-42fa063d6fef"
      },
      "execution_count": null,
      "outputs": [
        {
          "output_type": "execute_result",
          "data": {
            "text/plain": [
              "'João         tem 022 anos e R$ 51.34 no bolso.'"
            ],
            "application/vnd.google.colaboratory.intrinsic+json": {
              "type": "string"
            }
          },
          "metadata": {},
          "execution_count": 24
        }
      ]
    },
    {
      "cell_type": "code",
      "source": [
        "\"{:<12s} tem {:<3} anos e R$ {:5.2f} no bolso.\" .format(nome, idade, grana)"
      ],
      "metadata": {
        "colab": {
          "base_uri": "https://localhost:8080/",
          "height": 35
        },
        "id": "rs-HzVFXSjwx",
        "outputId": "7df85bf0-c549-4316-e744-f234f83103a0"
      },
      "execution_count": null,
      "outputs": [
        {
          "output_type": "execute_result",
          "data": {
            "text/plain": [
              "'João         tem 22  anos e R$ 51.34 no bolso.'"
            ],
            "application/vnd.google.colaboratory.intrinsic+json": {
              "type": "string"
            }
          },
          "metadata": {},
          "execution_count": 25
        }
      ]
    },
    {
      "cell_type": "markdown",
      "source": [
        "> Modelos formatação f-string"
      ],
      "metadata": {
        "id": "fShqJdVUSm4u"
      }
    },
    {
      "cell_type": "code",
      "source": [
        "nome = \"João\"\n",
        "idade = 22\n",
        "grana = 51.34\n",
        "\n",
        "f\"{nome} tem {idade} anos e R$ {grana} no bolso\""
      ],
      "metadata": {
        "colab": {
          "base_uri": "https://localhost:8080/",
          "height": 35
        },
        "id": "kOznKPY1SlK1",
        "outputId": "d733a0fa-8fc8-401a-9362-b389ff44f9c2"
      },
      "execution_count": null,
      "outputs": [
        {
          "output_type": "execute_result",
          "data": {
            "text/plain": [
              "'João tem 22 anos e R$ 51.34 no bolso'"
            ],
            "application/vnd.google.colaboratory.intrinsic+json": {
              "type": "string"
            }
          },
          "metadata": {},
          "execution_count": 26
        }
      ]
    },
    {
      "cell_type": "code",
      "source": [
        "f\"{nome:12} tem {idade:3} anos e R$ {grana:5.2f} no bolso\""
      ],
      "metadata": {
        "colab": {
          "base_uri": "https://localhost:8080/",
          "height": 35
        },
        "id": "lpnro66oSooi",
        "outputId": "41f0ceb1-1560-4e04-d553-5317a0ddcfed"
      },
      "execution_count": null,
      "outputs": [
        {
          "output_type": "execute_result",
          "data": {
            "text/plain": [
              "'João         tem  22 anos e R$ 51.34 no bolso'"
            ],
            "application/vnd.google.colaboratory.intrinsic+json": {
              "type": "string"
            }
          },
          "metadata": {},
          "execution_count": 27
        }
      ]
    },
    {
      "cell_type": "code",
      "source": [
        "f\"{nome:12} tem {idade:03} anos e R$ {grana:5.2f} no bolso\""
      ],
      "metadata": {
        "colab": {
          "base_uri": "https://localhost:8080/",
          "height": 35
        },
        "id": "Lhp8ogtHSqUN",
        "outputId": "e9b23176-ddad-4af7-c890-edf98e9242e1"
      },
      "execution_count": null,
      "outputs": [
        {
          "output_type": "execute_result",
          "data": {
            "text/plain": [
              "'João         tem 022 anos e R$ 51.34 no bolso'"
            ],
            "application/vnd.google.colaboratory.intrinsic+json": {
              "type": "string"
            }
          },
          "metadata": {},
          "execution_count": 28
        }
      ]
    },
    {
      "cell_type": "code",
      "source": [
        "f\"{nome:<12s} tem {idade:<3} anos e R$ {grana:5.2f} no bolso\""
      ],
      "metadata": {
        "colab": {
          "base_uri": "https://localhost:8080/",
          "height": 35
        },
        "id": "d9vUzwFrSsMO",
        "outputId": "d5ba9e5e-f1f5-49dc-faa0-32ba54ddb1db"
      },
      "execution_count": null,
      "outputs": [
        {
          "output_type": "execute_result",
          "data": {
            "text/plain": [
              "'João         tem 22  anos e R$ 51.34 no bolso'"
            ],
            "application/vnd.google.colaboratory.intrinsic+json": {
              "type": "string"
            }
          },
          "metadata": {},
          "execution_count": 29
        }
      ]
    },
    {
      "cell_type": "markdown",
      "source": [
        "3.4.1.3 Fatiamento de string"
      ],
      "metadata": {
        "id": "O6enbUwKSzKA"
      }
    },
    {
      "cell_type": "code",
      "source": [
        "s = \"ABCDEFGHI\"\n",
        "\n",
        "print( s[0:2] )\n",
        "\n",
        "print( s[1:2] )\n",
        "\n",
        "print( s[2:4] )\n",
        "\n",
        "print( s[0:5] )\n",
        "\n",
        "print( s[1:8] )"
      ],
      "metadata": {
        "colab": {
          "base_uri": "https://localhost:8080/"
        },
        "id": "k2Fxx-fUStoo",
        "outputId": "01d7eb97-078b-47b2-d76a-1627c8362195"
      },
      "execution_count": null,
      "outputs": [
        {
          "output_type": "stream",
          "name": "stdout",
          "text": [
            "AB\n",
            "B\n",
            "CD\n",
            "ABCDE\n",
            "BCDEFGH\n"
          ]
        }
      ]
    },
    {
      "cell_type": "code",
      "source": [
        "s = \"ABCDEFGHI\"\n",
        "\n",
        "print( s[:2] )\n",
        "\n",
        "print( s[1:] )\n",
        "\n",
        "print( s[0:-2] )\n",
        "\n",
        "print( s[:])\n",
        "\n",
        "print( s[-1:] )\n",
        "\n",
        "print ( s[-5:7] )\n",
        "\n",
        "print( s[-2:-1] )"
      ],
      "metadata": {
        "colab": {
          "base_uri": "https://localhost:8080/"
        },
        "id": "ockEBi33S0jI",
        "outputId": "6022909d-85d6-433a-afe3-aa3031383350"
      },
      "execution_count": null,
      "outputs": [
        {
          "output_type": "stream",
          "name": "stdout",
          "text": [
            "AB\n",
            "BCDEFGHI\n",
            "ABCDEFG\n",
            "ABCDEFGHI\n",
            "I\n",
            "EFG\n",
            "H\n"
          ]
        }
      ]
    },
    {
      "cell_type": "markdown",
      "source": [
        "***\n",
        "3.5 Sequências e tempo\n",
        "***"
      ],
      "metadata": {
        "id": "BEwZ1pp_S4kS"
      }
    },
    {
      "cell_type": "code",
      "source": [
        "# Programa 3.1 - Exemplo de sequencia e tempo\n",
        "\n",
        "divida = 0\n",
        "compra = 100\n",
        "\n",
        "divida = divida + compra\n",
        "\n",
        "compra = 200\n",
        "\n",
        "divida = divida + compra\n",
        "\n",
        "compra = 300\n",
        "\n",
        "divida = divida + compra\n",
        "\n",
        "compra = 0\n",
        "\n",
        "print(divida)"
      ],
      "metadata": {
        "colab": {
          "base_uri": "https://localhost:8080/"
        },
        "id": "XaJMqQ3fS2h2",
        "outputId": "3658d3fb-ad1e-43f1-c15c-1ea9003b3225"
      },
      "execution_count": null,
      "outputs": [
        {
          "output_type": "stream",
          "name": "stdout",
          "text": [
            "600\n"
          ]
        }
      ]
    },
    {
      "cell_type": "markdown",
      "source": [
        "***\n",
        "3.7 Entrada de dados\n",
        "***"
      ],
      "metadata": {
        "id": "Jn85rQzhS8qY"
      }
    },
    {
      "cell_type": "code",
      "source": [
        "nome = input(\"Digite seu nome: \")\n",
        "print(f\"Você digitou {nome}\")\n",
        "print(f\"Olá, {nome}!\")\n"
      ],
      "metadata": {
        "colab": {
          "base_uri": "https://localhost:8080/"
        },
        "id": "Ud2BG1JLS6ey",
        "outputId": "07220a46-d2c3-4caf-d1c0-bbad1fdb7811"
      },
      "execution_count": null,
      "outputs": [
        {
          "output_type": "stream",
          "name": "stdout",
          "text": [
            "Digite seu nome: Juan\n",
            "Você digitou Juan\n",
            "Olá, Juan!\n"
          ]
        }
      ]
    },
    {
      "cell_type": "markdown",
      "source": [
        "3.7.1 Conversão de entrada de dados"
      ],
      "metadata": {
        "id": "SKjDd5GCTJgA"
      }
    },
    {
      "cell_type": "code",
      "source": [
        "anos = int(input(\"Anos de serviço: \"))\n",
        "valor_por_ano = float(input(\"Valor por ano: \"))\n",
        "\n",
        "bonus = anos * valor_por_ano\n",
        "print(f\"Bônus de R$ {bonus:5.2f}\")"
      ],
      "metadata": {
        "colab": {
          "base_uri": "https://localhost:8080/"
        },
        "id": "gzrjrUZITLk4",
        "outputId": "9a2e7a0b-1ce1-4854-ce0d-46c6fcf4ff3e"
      },
      "execution_count": null,
      "outputs": [
        {
          "output_type": "stream",
          "name": "stdout",
          "text": [
            "Anos de serviço: 1900\n",
            "Valor por ano: 25\n",
            "Bônus de R$ 47500.00\n"
          ]
        }
      ]
    },
    {
      "cell_type": "markdown",
      "source": [
        "\n",
        "***\n",
        "Exercicios\n",
        "***"
      ],
      "metadata": {
        "id": "wrq7WQmGTbP8"
      }
    },
    {
      "cell_type": "markdown",
      "source": [
        "3.7 Faça um programa que peça dois números inteiros. Imprim a soma desses dois numeros"
      ],
      "metadata": {
        "id": "L-VDCrihTxP2"
      }
    },
    {
      "cell_type": "code",
      "source": [
        "numer1 = int(input(\"Digite um numero: \"))\n",
        "numer2 = int(input(\"Digite outr numero: \"))\n",
        "\n",
        "soma = numer1 + numer2\n",
        "\n",
        "print(f\"O resultado da somatorio é de {soma}\")"
      ],
      "metadata": {
        "id": "0jumol5VTNZu"
      },
      "execution_count": null,
      "outputs": []
    },
    {
      "cell_type": "markdown",
      "source": [
        "3.8 Escreva um programa que leia um valor em metros e o exiba convertido em milimetros"
      ],
      "metadata": {
        "id": "vj8bVRz6T0Lc"
      }
    },
    {
      "cell_type": "code",
      "source": [
        "metros = float(input(\"Digite sua estatura em metros: \")) #informe no formado NA\n",
        "milimetros = 1000\n",
        "\n",
        "conversao = metros * milimetros\n",
        "\n",
        "print(f\"A sua estatura e de {metros:3.2f} metros, quando convertemos para milimetros o resultado e {conversao} milimetros\" )"
      ],
      "metadata": {
        "colab": {
          "base_uri": "https://localhost:8080/"
        },
        "id": "8DEN-FcgWO0h",
        "outputId": "e8776753-f57c-4bf6-f1e3-f576a356f3b0"
      },
      "execution_count": null,
      "outputs": [
        {
          "output_type": "stream",
          "name": "stdout",
          "text": [
            "Digite sua estatura em metros: 1.82\n",
            "A sua estatura e de 1.82 metros, quando convertemos para milimetros o resultado e 1820.0 milimetros\n"
          ]
        }
      ]
    },
    {
      "cell_type": "markdown",
      "source": [
        "3.9 Escreva um programa que leia a quantidade de dias, horas, minutos e segundos do usuario. Calculo o total em segundos"
      ],
      "metadata": {
        "id": "v9lNCpEKT70k"
      }
    },
    {
      "cell_type": "code",
      "source": [
        "from datetime import datetime\n",
        "\n",
        "def obter_data_usuario(prompt):\n",
        "    while True:\n",
        "        try:\n",
        "            data = input(prompt)\n",
        "            return datetime.strptime(data, \"%d/%m/%Y\")\n",
        "        except ValueError:\n",
        "            print(\"Formato de data inválido. Por favor, insira no formato dd/mm/aaaa.\")\n",
        "\n",
        "# Obter datas do usuário\n",
        "diaCompra = obter_data_usuario(\"Informe a data de compra: \")  # 22/12/2022\n",
        "diaAtual = obter_data_usuario(\"Informe a data atual: \")  # 17/09/2024\n",
        "\n",
        "# Verificar se a data de compra é posterior à data atual\n",
        "if diaCompra > diaAtual:\n",
        "    print(\"A data de compra não pode ser posterior à data atual.\")\n",
        "else:\n",
        "    # Cálculo da diferença\n",
        "    diasCorridos = (diaAtual - diaCompra).days\n",
        "    horasCorridas = diasCorridos * 24\n",
        "    minutosCorridos = horasCorridas * 60\n",
        "    segundosCorridos = minutosCorridos * 60\n",
        "\n",
        "    # Apresentação dos resultados\n",
        "    print(f\"O total de segundos de utilização da plataforma foi de {segundosCorridos}\")"
      ],
      "metadata": {
        "colab": {
          "base_uri": "https://localhost:8080/"
        },
        "id": "sRF7OykwYnrD",
        "outputId": "bde89f2a-6355-4e98-ecc4-ec9169c02dc8"
      },
      "execution_count": null,
      "outputs": [
        {
          "output_type": "stream",
          "name": "stdout",
          "text": [
            "Informe a data de compra: 22/12/2022\n",
            "Informe a data atual: 17/09/2024\n",
            "O total de segundos de utilização da plataforma foi de 54864000\n"
          ]
        }
      ]
    },
    {
      "cell_type": "markdown",
      "source": [
        "3.10 Faca um programa que calcule o aumento de um salario. Ele deve solicitar o valor do salario e a porcentagem do aumento. Exiba o valor do aumento e do novo salario"
      ],
      "metadata": {
        "id": "jemvroKPT9GL"
      }
    },
    {
      "cell_type": "code",
      "source": [
        "salarioAtual = float(input(\"Digite seu salario atual: \"))\n",
        "reajuste = float(input(\"Informe o percentual de reajuste: \")) #10.73\n",
        "\n",
        "aumentoSalarial = salarioAtual * (reajuste/100)\n",
        "print(f\"O aumento efetivo do salario foi de {aumentoSalarial}\")"
      ],
      "metadata": {
        "colab": {
          "base_uri": "https://localhost:8080/"
        },
        "id": "6cHZOdjZbRJl",
        "outputId": "a1f0a041-7082-4bcb-a157-a05437de5351"
      },
      "execution_count": null,
      "outputs": [
        {
          "output_type": "stream",
          "name": "stdout",
          "text": [
            "Digite seu salario atual: 6200\n",
            "Informe o percentual de reajuste: 10.73\n",
            "O aumento efetivo do salario foi de 665.26\n"
          ]
        }
      ]
    },
    {
      "cell_type": "markdown",
      "source": [
        "3.11 Faca um programa que solitice o preco de uma mercadoria e o percentual de desconto. Exiba o valor do desconto e o preco a pagar"
      ],
      "metadata": {
        "id": "A5lP5pyuUEZi"
      }
    },
    {
      "cell_type": "code",
      "source": [
        "valorDaMercadoria = float(input(\"Digite o valor da mercadoria: \"))\n",
        "valorDoDesconto = float(input(\"Informe o valor de desconto o item: \"))\n",
        "\n",
        "desconto = valorDaMercadoria * (valorDoDesconto / 100)\n",
        "valorDaMercadoriaLiquido = valorDaMercadoria - desconto\n",
        "\n",
        "print(f\"O valor do desconto foi de R$ {desconto:5.2f}, e o valor liquido da mercadoria agora e de R$ {valorDaMercadoriaLiquido: 5.2f}\")"
      ],
      "metadata": {
        "colab": {
          "base_uri": "https://localhost:8080/"
        },
        "id": "SbihB1codBab",
        "outputId": "539b3ce2-f6e2-4077-b74c-89b9d946c10d"
      },
      "execution_count": null,
      "outputs": [
        {
          "output_type": "stream",
          "name": "stdout",
          "text": [
            "Digite o valor da mercadoria: 15\n",
            "Informe o valor de desconto o item: 5.00\n",
            "O valor do desconto foi de R$  0.75, e o valor liquido da mercadoria agora e de R$   14.25\n"
          ]
        }
      ]
    },
    {
      "cell_type": "markdown",
      "source": [
        "3.12 Escreva um programa que calcule o tempo de uma viagem de carro. Pergunte a distancia e a velocidade media esperada para a viagem"
      ],
      "metadata": {
        "id": "SpNQt1KTUGgv"
      }
    },
    {
      "cell_type": "code",
      "source": [
        "distancia = int(input(\"Qual a distancia a ser percorrida:\"))\n",
        "velocidadeMedia = int(input(\"Qual a velocidade media esperada para percorrer esta distancia:\"))\n",
        "\n",
        "tempoDeViagem = distancia / velocidadeMedia\n",
        "\n",
        "print(f\"Para chegar ao destino levando em consideracao a distancia informada, e a velocidade media. O tempo total da viagem sera de {tempoDeViagem:1.0f} horas\")"
      ],
      "metadata": {
        "colab": {
          "base_uri": "https://localhost:8080/"
        },
        "id": "xL-YPiy1eDDW",
        "outputId": "da895dda-100a-43b1-a900-9ce6f56eb51c"
      },
      "execution_count": null,
      "outputs": [
        {
          "output_type": "stream",
          "name": "stdout",
          "text": [
            "Qual a distancia a ser percorrida:100\n",
            "Qual a velocidade media esperada para percorrer esta distancia:50\n",
            "Para chegar ao destino levando em consideracao a distancia informada, e a velocidade media. O tempo total da viagem sera de 2 horas\n"
          ]
        }
      ]
    },
    {
      "cell_type": "markdown",
      "source": [
        "3.13 Escreva um programa que converta uma temperatura digitada em C em F. A forma para essa conversao e: F = 9 x c / 5 + 32"
      ],
      "metadata": {
        "id": "OSbpfp0iUJly"
      }
    },
    {
      "cell_type": "code",
      "source": [
        "grausCelsius = int(input(\"Informe a temperatura atual em graus celsius:\"))\n",
        "\n",
        "fahrenheit = (9 * grausCelsius / 5) + 32\n",
        "\n",
        "print(f\"A conversao de graus celsius {grausCelsius}, para fahrenheit e de {fahrenheit}\")"
      ],
      "metadata": {
        "colab": {
          "base_uri": "https://localhost:8080/"
        },
        "id": "8lGYyWlPe60-",
        "outputId": "deee241c-52ad-4b1f-ab4b-3eddcc0c0b2e"
      },
      "execution_count": null,
      "outputs": [
        {
          "output_type": "stream",
          "name": "stdout",
          "text": [
            "Informe a temperatura atual em graus celsius:32\n",
            "A conversao de graus celsius 32, para fahrenheit e de 89.6\n"
          ]
        }
      ]
    },
    {
      "cell_type": "markdown",
      "source": [
        " 3.14 Escreva um programa que pergunte a quantidade de km percorridos por um carro alugado pelo usuario, assim como a quantidade de dias pelos quais o carro foi alugado. Calcule o preco a pagar, sabendo que o carro custa R 60,00 por dia e R 0,15 por km rodado."
      ],
      "metadata": {
        "id": "436TDNAnUWJt"
      }
    },
    {
      "cell_type": "code",
      "source": [
        "distanciaPercorrida = int(input(\"Informe a distancia percorrida em km:\"))\n",
        "diasAlugados = int(input(\"Informe a quantidade de dias que o carro esteve alugado:\"))\n",
        "\n",
        "custoDiario = 60\n",
        "custoKm = 0.15\n",
        "\n",
        "valorAPagar = diasAlugados * custoDiario + distanciaPercorrida * custoKm\n",
        "\n",
        "print(f\"O valor total da fatura referente ao aluguel do carro e de: R$ {valorAPagar:5.2f}\")"
      ],
      "metadata": {
        "colab": {
          "base_uri": "https://localhost:8080/"
        },
        "id": "S2l7pK4xfkyA",
        "outputId": "fd045a6b-7efa-4b08-af20-8ce0eec4d967"
      },
      "execution_count": null,
      "outputs": [
        {
          "output_type": "stream",
          "name": "stdout",
          "text": [
            "Informe a distancia percorrida em km:10\n",
            "Informe a quantidade de dias que o carro esteve alugado:10\n",
            "O valor total da fatura referente ao aluguel do carro e de: R$ 601.50\n"
          ]
        }
      ]
    },
    {
      "cell_type": "markdown",
      "source": [
        "3.15 Escreva um programa para calcular a reducao do tempo de vida de um fumante. Pergunte a quantidade de cigarros fumados por dia e quantos anos ele ja fumou. Considere que um fumante perde 10 minutos de vida a cada cigarro e calcule quantos dias de vida um fumante perdera. Exiba o total em dias"
      ],
      "metadata": {
        "id": "pHsLWbivUVi8"
      }
    },
    {
      "cell_type": "code",
      "source": [
        "cigarros_por_dia = int(input(\"Quantos cigarros em media o usuario utiliza:\")) #10\n",
        "anos_fumando = int(input(\"Por quantos anos o usuario e fumante: \")) #15\n",
        "\n",
        "reducao_em_minutos = anos_fumando * 365 * cigarros_por_dia * 10\n",
        "# Um dia tem 24 x 60 minutos\n",
        "reducao_em_dias = reducao_em_minutos / (24 * 60)\n",
        "\n",
        "print(f\"\\nCaso o usuario fume {cigarros_por_dia} cigarros por dia, durante {anos_fumando} anos, ele tera perdido aproximadamente {reducao_em_dias: 6.0f} dias de vida.\")"
      ],
      "metadata": {
        "colab": {
          "base_uri": "https://localhost:8080/"
        },
        "id": "EQJfL25PT8MI",
        "outputId": "7839858f-3f73-42d8-ceb2-eded07b12de3"
      },
      "execution_count": null,
      "outputs": [
        {
          "output_type": "stream",
          "name": "stdout",
          "text": [
            "Quantos cigarros em media o usuario utiliza:10\n",
            "Por quantos anos o usuario e fumante: 15\n",
            "\n",
            "Caso o usuario fume 10 cigarros por dia, durante 15 anos, ele tera perdido aproximadamente    380 dias de vida.\n"
          ]
        }
      ]
    }
  ]
}